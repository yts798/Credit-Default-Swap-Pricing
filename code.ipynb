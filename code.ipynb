{
 "cells": [
  {
   "cell_type": "code",
   "execution_count": 1,
   "metadata": {},
   "outputs": [],
   "source": [
    "import pandas as pd\n",
    "import numpy as np\n",
    "import matplotlib.pyplot as plt"
   ]
  },
  {
   "cell_type": "markdown",
   "metadata": {},
   "source": [
    "# task 1"
   ]
  },
  {
   "cell_type": "code",
   "execution_count": 2,
   "metadata": {},
   "outputs": [],
   "source": [
    "def r(s):\n",
    "    beta0=0.0408\n",
    "    beta1=-0.0396\n",
    "    beta2=-0.0511\n",
    "    tau=1.614\n",
    "    \n",
    "    rate=beta0+beta1*tau/s*(1-np.exp(-s/tau))+beta2*(tau/s*(1-np.exp(-s/tau))-np.exp(-s/tau))\n",
    "    return rate"
   ]
  },
  {
   "cell_type": "code",
   "execution_count": 3,
   "metadata": {},
   "outputs": [],
   "source": [
    "def z(s):\n",
    "    if s==0:\n",
    "        return 1\n",
    "    return np.exp(-r(s)*s)"
   ]
  },
  {
   "cell_type": "code",
   "execution_count": 4,
   "metadata": {},
   "outputs": [],
   "source": [
    "from datetime import datetime, timedelta\n",
    "\n",
    "def adjust_for_weekend(date):\n",
    "    if date.weekday() == 5:\n",
    "        return date + timedelta(days=2)\n",
    "    elif date.weekday() == 6:\n",
    "        return date + timedelta(days=1)\n",
    "    else:\n",
    "        return date\n",
    "\n",
    "start_date = datetime(2014, 2, 28)\n",
    "payment_dates=[]\n",
    "for year in range(2014,2045):\n",
    "    for month in [3,6,9,12]:\n",
    "        d=20\n",
    "        payment_dates.append(datetime(year,month,d))\n",
    "\n",
    "adjusted_dates = [adjust_for_weekend(date) for date in payment_dates]\n",
    "\n",
    "years_diff = [(date - start_date).days/360 for date in adjusted_dates]"
   ]
  },
  {
   "cell_type": "code",
   "execution_count": 5,
   "metadata": {},
   "outputs": [],
   "source": [
    "ttm=years_diff\n",
    "\n",
    "discount=[z(i) for i in ttm]"
   ]
  },
  {
   "cell_type": "code",
   "execution_count": 6,
   "metadata": {},
   "outputs": [
    {
     "data": {
      "text/plain": [
       "Text(0, 0.5, 'discount factor')"
      ]
     },
     "execution_count": 6,
     "metadata": {},
     "output_type": "execute_result"
    },
    {
     "data": {
      "image/png": "[encoded data removed]",
      "text/plain": [
       "<Figure size 1600x640 with 1 Axes>"
      ]
     },
     "metadata": {
      "needs_background": "light"
     },
     "output_type": "display_data"
    }
   ],
   "source": [
    "plt.figure(figsize=(20,8),dpi=80)\n",
    "\n",
    "plt.plot(ttm,discount,'b')\n",
    "\n",
    "plt.xlabel(\"time to maturity\")\n",
    "plt.ylabel(\"discount factor\")"
   ]
  },
  {
   "cell_type": "markdown",
   "metadata": {},
   "source": [
    "# task 2"
   ]
  },
  {
   "cell_type": "markdown",
   "metadata": {},
   "source": [
    "T1"
   ]
  },
  {
   "cell_type": "code",
   "execution_count": 7,
   "metadata": {},
   "outputs": [],
   "source": [
    "def Q(t,h):\n",
    "    return np.exp(-t*h)"
   ]
  },
  {
   "cell_type": "code",
   "execution_count": 8,
   "metadata": {},
   "outputs": [],
   "source": [
    "def dQ(t,h):\n",
    "    return -t*Q(t,h)"
   ]
  },
  {
   "cell_type": "code",
   "execution_count": 9,
   "metadata": {},
   "outputs": [],
   "source": [
    "R_standard=0.45\n",
    "R_non_standard=0.6\n",
    "m=12\n",
    "raw_market_ttm=[datetime(2014,9,20)]\n",
    "for year in [2015,2016,2017,2018,2019,2021,2024,2034,2044]:\n",
    "    raw_market_ttm.append(datetime(year,3,20))\n",
    "market_adjusted=[adjust_for_weekend(date) for date in raw_market_ttm]\n",
    "\n",
    "market_ttm=[(date - start_date).days/360 for date in market_adjusted]\n",
    "\n",
    "K=[int(np.ceil(m*x)) for x in market_ttm]\n",
    "S= [x/10000 for x in [103.07,104.68,106.74,110.31,113.38,116.98,128.78,143.51,159.43,164.13]]"
   ]
  },
  {
   "cell_type": "code",
   "execution_count": 10,
   "metadata": {},
   "outputs": [
    {
     "data": {
      "text/plain": [
       "[0.05555555555555555,\n",
       " 0.3111111111111111,\n",
       " 0.5722222222222222,\n",
       " 0.825,\n",
       " 1.0694444444444444,\n",
       " 1.3305555555555555,\n",
       " 1.5833333333333333,\n",
       " 1.836111111111111,\n",
       " 2.088888888888889,\n",
       " 2.341666666666667]"
      ]
     },
     "execution_count": 10,
     "metadata": {},
     "output_type": "execute_result"
    }
   ],
   "source": [
    "ttm[:10]"
   ]
  },
  {
   "cell_type": "code",
   "execution_count": 11,
   "metadata": {},
   "outputs": [],
   "source": [
    "def V(x,no):\n",
    "    num1=0\n",
    "    for i in range(K[no]):\n",
    "        s1=i*market_ttm[no]/K[no]\n",
    "        s2=(i+1)*market_ttm[no]/K[no]\n",
    "        num1=num1+(z(s1)+z(s2))*(Q(s1,x)-Q(s2,x))\n",
    "    prot=(1-R_standard)/2*num1\n",
    "    \n",
    "    num2=0\n",
    "    tmax=market_ttm[no]\n",
    "    t_current=[0]+[x for x in ttm if (x<=tmax)]\n",
    "    #print(t_current)\n",
    "    N=len(t_current)\n",
    "    for i in range(1,N):\n",
    "        num2=num2+(t_current[i]-t_current[i-1])*z(t_current[i])*(Q(t_current[i-1],x)+Q(t_current[i],x))\n",
    "    prem=S[no]*0.5*num2\n",
    "    \n",
    "    return prot-prem\n",
    "        "
   ]
  },
  {
   "cell_type": "code",
   "execution_count": 12,
   "metadata": {},
   "outputs": [],
   "source": [
    "def dV(x,no):\n",
    "    num1=0\n",
    "    for i in range(K[no]):\n",
    "        s1=i*market_ttm[no]/K[no]\n",
    "        s2=(i+1)*market_ttm[no]/K[no]\n",
    "        num1=num1+(z(s1)+z(s2))*(dQ(s1,x)-dQ(s2,x))\n",
    "    prot=(1-R_standard)/2*num1\n",
    "    \n",
    "    num2=0\n",
    "    tmax=market_ttm[no]\n",
    "    t_current=[0]+[x for x in ttm if (x<=tmax)]\n",
    "    N=len(t_current)\n",
    "    for i in range(1,N):\n",
    "        num2=num2+(t_current[i]-t_current[i-1])*z(t_current[i])*(dQ(t_current[i-1],x)+dQ(t_current[i],x))\n",
    "    prem=S[no]*0.5*num2\n",
    "    \n",
    "    return prot-prem\n",
    "        "
   ]
  },
  {
   "cell_type": "code",
   "execution_count": 13,
   "metadata": {},
   "outputs": [],
   "source": [
    "def NR(no):\n",
    "    eps=1e-6\n",
    "    x=0.01\n",
    "    while 1:\n",
    "        if abs(V(x,no))<eps:\n",
    "            return x\n",
    "        x=x-V(x,no)/dV(x,no)"
   ]
  },
  {
   "cell_type": "code",
   "execution_count": 14,
   "metadata": {
    "scrolled": false
   },
   "outputs": [
    {
     "data": {
      "text/plain": [
       "0.018739616818661795"
      ]
     },
     "execution_count": 14,
     "metadata": {},
     "output_type": "execute_result"
    }
   ],
   "source": [
    "h1=NR(0)\n",
    "h1"
   ]
  },
  {
   "cell_type": "code",
   "execution_count": 15,
   "metadata": {},
   "outputs": [],
   "source": [
    "def Q2(t,h):\n",
    "    if t<=market_ttm[0]:\n",
    "        return Q(t,h1)\n",
    "    return Q(market_ttm[0],h1)*np.exp(-(t-market_ttm[0])*h)\n",
    "\n",
    "def dQ2(t,h):\n",
    "    if t<=market_ttm[0]:\n",
    "        return 0\n",
    "    return -(t-market_ttm[0])*Q2(t,h)\n",
    "\n",
    "def V2(x,no):\n",
    "    num1=0\n",
    "    for i in range(K[no]):\n",
    "        s1=i*market_ttm[no]/K[no]\n",
    "        s2=(i+1)*market_ttm[no]/K[no]\n",
    "        num1=num1+(z(s1)+z(s2))*(Q2(s1,x)-Q2(s2,x))\n",
    "    prot=(1-R_standard)/2*num1\n",
    "    \n",
    "    num2=0\n",
    "    tmax=market_ttm[no]\n",
    "    t_current=[0]+[x for x in ttm if (x<=tmax)]\n",
    "    N=len(t_current)\n",
    "    for i in range(1,N):\n",
    "        num2=num2+(t_current[i]-t_current[i-1])*z(t_current[i])*(Q2(t_current[i-1],x)+Q2(t_current[i],x))\n",
    "    prem=S[no]*0.5*num2\n",
    "    \n",
    "    return prot-prem\n",
    "        \n",
    "\n",
    "def dV2(x,no):\n",
    "    num1=0\n",
    "    for i in range(K[no]):\n",
    "        s1=i*market_ttm[no]/K[no]\n",
    "        s2=(i+1)*market_ttm[no]/K[no]\n",
    "        num1=num1+(z(s1)+z(s2))*(dQ2(s1,x)-dQ2(s2,x))\n",
    "    prot=(1-R_standard)/2*num1\n",
    "    \n",
    "    num2=0\n",
    "    tmax=market_ttm[no]\n",
    "    t_current=[0]+[x for x in ttm if (x<=tmax)]\n",
    "    N=len(t_current)\n",
    "    for i in range(1,N):\n",
    "        num2=num2+(t_current[i]-t_current[i-1])*z(t_current[i])*(dQ2(t_current[i-1],x)+dQ2(t_current[i],x))\n",
    "    prem=S[no]*0.5*num2\n",
    "    \n",
    "    return prot-prem\n",
    "\n",
    "def NR2(no):\n",
    "    eps=1e-6\n",
    "    x=0.01\n",
    "    while 1:\n",
    "        if abs(V2(x,no))<eps:\n",
    "            return x\n",
    "        x=x-V2(x,no)/dV2(x,no)"
   ]
  },
  {
   "cell_type": "code",
   "execution_count": 16,
   "metadata": {
    "scrolled": true
   },
   "outputs": [
    {
     "data": {
      "text/plain": [
       "0.019369333650527797"
      ]
     },
     "execution_count": 16,
     "metadata": {},
     "output_type": "execute_result"
    }
   ],
   "source": [
    "h2=NR2(1)\n",
    "h2"
   ]
  },
  {
   "cell_type": "markdown",
   "metadata": {},
   "source": [
    "T3"
   ]
  },
  {
   "cell_type": "code",
   "execution_count": 17,
   "metadata": {},
   "outputs": [],
   "source": [
    "def Q3(t,h):\n",
    "    if t<=market_ttm[1]:\n",
    "        return Q2(t,h2)\n",
    "    return Q2(market_ttm[1],h2)*np.exp(-(t-market_ttm[1])*h)\n",
    "\n",
    "def dQ3(t,h):\n",
    "    if t<=market_ttm[1]:\n",
    "        return 0\n",
    "    return -(t-market_ttm[1])*Q3(t,h)\n",
    "\n",
    "def V3(x,no):\n",
    "    num1=0\n",
    "    for i in range(K[no]):\n",
    "        s1=i*market_ttm[no]/K[no]\n",
    "        s2=(i+1)*market_ttm[no]/K[no]\n",
    "        num1=num1+(z(s1)+z(s2))*(Q3(s1,x)-Q3(s2,x))\n",
    "    prot=(1-R_standard)/2*num1\n",
    "    \n",
    "    num2=0\n",
    "    tmax=market_ttm[no]\n",
    "    t_current=[0]+[x for x in ttm if (x<=tmax)]\n",
    "    N=len(t_current)\n",
    "    for i in range(1,N):\n",
    "        num2=num2+(t_current[i]-t_current[i-1])*z(t_current[i])*(Q3(t_current[i-1],x)+Q3(t_current[i],x))\n",
    "    prem=S[no]*0.5*num2\n",
    "    \n",
    "    return prot-prem\n",
    "        \n",
    "\n",
    "def dV3(x,no):\n",
    "    num1=0\n",
    "    for i in range(K[no]):\n",
    "        s1=i*market_ttm[no]/K[no]\n",
    "        s2=(i+1)*market_ttm[no]/K[no]\n",
    "        num1=num1+(z(s1)+z(s2))*(dQ3(s1,x)-dQ3(s2,x))\n",
    "    prot=(1-R_standard)/2*num1\n",
    "    \n",
    "    num2=0\n",
    "    tmax=market_ttm[no]\n",
    "    t_current=[0]+[x for x in ttm if (x<=tmax)]\n",
    "    N=len(t_current)\n",
    "    for i in range(1,N):\n",
    "        num2=num2+(t_current[i]-t_current[i-1])*z(t_current[i])*(dQ3(t_current[i-1],x)+dQ3(t_current[i],x))\n",
    "    prem=S[no]*0.5*num2\n",
    "    \n",
    "    return prot-prem\n",
    "\n",
    "def NR3(no):\n",
    "    eps=1e-6\n",
    "    x=0.01\n",
    "    while 1:\n",
    "        if abs(V3(x,no))<eps:\n",
    "            return x\n",
    "        x=x-V3(x,no)/dV3(x,no)"
   ]
  },
  {
   "cell_type": "code",
   "execution_count": 18,
   "metadata": {},
   "outputs": [
    {
     "data": {
      "text/plain": [
       "0.01979114524288611"
      ]
     },
     "execution_count": 18,
     "metadata": {},
     "output_type": "execute_result"
    }
   ],
   "source": [
    "h3=NR3(2)\n",
    "h3"
   ]
  },
  {
   "cell_type": "markdown",
   "metadata": {},
   "source": [
    "T4"
   ]
  },
  {
   "cell_type": "code",
   "execution_count": 19,
   "metadata": {},
   "outputs": [
    {
     "data": {
      "text/plain": [
       "0.021416395135167455"
      ]
     },
     "execution_count": 19,
     "metadata": {},
     "output_type": "execute_result"
    }
   ],
   "source": [
    "def Q4(t,h):\n",
    "    if t<market_ttm[2]:\n",
    "        return Q3(t,h3)\n",
    "    return Q3(market_ttm[2],h3)*np.exp(-(t-market_ttm[2])*h)\n",
    "\n",
    "def dQ4(t,h):\n",
    "    if t<=market_ttm[2]:\n",
    "        return 0\n",
    "    return -(t-market_ttm[2])*Q4(t,h)\n",
    "\n",
    "def V4(x,no):\n",
    "    num1=0\n",
    "    for i in range(K[no]):\n",
    "        s1=i*market_ttm[no]/K[no]\n",
    "        s2=(i+1)*market_ttm[no]/K[no]\n",
    "        num1=num1+(z(s1)+z(s2))*(Q4(s1,x)-Q4(s2,x))\n",
    "    prot=(1-R_standard)/2*num1\n",
    "    \n",
    "    num2=0\n",
    "    tmax=market_ttm[no]\n",
    "    t_current=[0]+[x for x in ttm if (x<=tmax)]\n",
    "    N=len(t_current)\n",
    "    for i in range(1,N):\n",
    "        num2=num2+(t_current[i]-t_current[i-1])*z(t_current[i])*(Q4(t_current[i-1],x)+Q4(t_current[i],x))\n",
    "    prem=S[no]*0.5*num2\n",
    "    \n",
    "    return prot-prem\n",
    "        \n",
    "\n",
    "def dV4(x,no):\n",
    "    num1=0\n",
    "    for i in range(K[no]):\n",
    "        s1=i*market_ttm[no]/K[no]\n",
    "        s2=(i+1)*market_ttm[no]/K[no]\n",
    "        num1=num1+(z(s1)+z(s2))*(dQ4(s1,x)-dQ4(s2,x))\n",
    "    prot=(1-R_standard)/2*num1\n",
    "    \n",
    "    num2=0\n",
    "    tmax=market_ttm[no]\n",
    "    t_current=[0]+[x for x in ttm if (x<=tmax)]\n",
    "    N=len(t_current)\n",
    "    for i in range(1,N):\n",
    "        num2=num2+(t_current[i]-t_current[i-1])*z(t_current[i])*(dQ4(t_current[i-1],x)+dQ4(t_current[i],x))\n",
    "    prem=S[no]*0.5*num2\n",
    "    \n",
    "    return prot-prem\n",
    "\n",
    "def NR4(no):\n",
    "    eps=1e-6\n",
    "    x=0.01\n",
    "    while 1:\n",
    "        if abs(V4(x,no))<eps:\n",
    "            return x\n",
    "        x=x-V4(x,no)/dV4(x,no)\n",
    "\n",
    "h4=NR4(3)\n",
    "h4"
   ]
  },
  {
   "cell_type": "code",
   "execution_count": 20,
   "metadata": {},
   "outputs": [
    {
     "data": {
      "text/plain": [
       "0.02238560334042459"
      ]
     },
     "execution_count": 20,
     "metadata": {},
     "output_type": "execute_result"
    }
   ],
   "source": [
    "def Q5(t,h):\n",
    "    if t<market_ttm[3]:\n",
    "        return Q4(t,h4)\n",
    "    return Q4(market_ttm[3],h4)*np.exp(-(t-market_ttm[3])*h)\n",
    "\n",
    "def dQ5(t,h):\n",
    "    if t<=market_ttm[3]:\n",
    "        return 0\n",
    "    return -(t-market_ttm[3])*Q5(t,h)\n",
    "\n",
    "def V5(x,no):\n",
    "    num1=0\n",
    "    for i in range(K[no]):\n",
    "        s1=i*market_ttm[no]/K[no]\n",
    "        s2=(i+1)*market_ttm[no]/K[no]\n",
    "        num1=num1+(z(s1)+z(s2))*(Q5(s1,x)-Q5(s2,x))\n",
    "    prot=(1-R_standard)/2*num1\n",
    "    \n",
    "    num2=0\n",
    "    tmax=market_ttm[no]\n",
    "    t_current=[0]+[x for x in ttm if (x<=tmax)]\n",
    "    N=len(t_current)\n",
    "    for i in range(1,N):\n",
    "        num2=num2+(t_current[i]-t_current[i-1])*z(t_current[i])*(Q5(t_current[i-1],x)+Q5(t_current[i],x))\n",
    "    prem=S[no]*0.5*num2\n",
    "    \n",
    "    return prot-prem\n",
    "        \n",
    "\n",
    "def dV5(x,no):\n",
    "    num1=0\n",
    "    for i in range(K[no]):\n",
    "        s1=i*market_ttm[no]/K[no]\n",
    "        s2=(i+1)*market_ttm[no]/K[no]\n",
    "        num1=num1+(z(s1)+z(s2))*(dQ5(s1,x)-dQ5(s2,x))\n",
    "    prot=(1-R_standard)/2*num1\n",
    "    \n",
    "    num2=0\n",
    "    tmax=market_ttm[no]\n",
    "    t_current=[0]+[x for x in ttm if (x<=tmax)]\n",
    "    N=len(t_current)\n",
    "    for i in range(1,N):\n",
    "        num2=num2+(t_current[i]-t_current[i-1])*z(t_current[i])*(dQ5(t_current[i-1],x)+dQ5(t_current[i],x))\n",
    "    prem=S[no]*0.5*num2\n",
    "    \n",
    "    return prot-prem\n",
    "\n",
    "def NR5(no):\n",
    "    eps=1e-6\n",
    "    x=0.01\n",
    "    while 1:\n",
    "        if abs(V5(x,no))<eps:\n",
    "            return x\n",
    "        x=x-V5(x,no)/dV5(x,no)\n",
    "\n",
    "h5=NR5(4)\n",
    "h5"
   ]
  },
  {
   "cell_type": "code",
   "execution_count": 21,
   "metadata": {},
   "outputs": [
    {
     "data": {
      "text/plain": [
       "0.024139373192806155"
      ]
     },
     "execution_count": 21,
     "metadata": {},
     "output_type": "execute_result"
    }
   ],
   "source": [
    "def Q6(t,h):\n",
    "    if t<market_ttm[4]:\n",
    "        return Q5(t,h5)\n",
    "    return Q5(market_ttm[4],h5)*np.exp(-(t-market_ttm[4])*h)\n",
    "\n",
    "def dQ6(t,h):\n",
    "    if t<=market_ttm[4]:\n",
    "        return 0\n",
    "    return -(t-market_ttm[4])*Q6(t,h)\n",
    "\n",
    "def V6(x,no):\n",
    "    num1=0\n",
    "    for i in range(K[no]):\n",
    "        s1=i*market_ttm[no]/K[no]\n",
    "        s2=(i+1)*market_ttm[no]/K[no]\n",
    "        num1=num1+(z(s1)+z(s2))*(Q6(s1,x)-Q6(s2,x))\n",
    "    prot=(1-R_standard)/2*num1\n",
    "    \n",
    "    num2=0\n",
    "    tmax=market_ttm[no]\n",
    "    t_current=[0]+[x for x in ttm if (x<=tmax)]\n",
    "    N=len(t_current)\n",
    "    for i in range(1,N):\n",
    "        num2=num2+(t_current[i]-t_current[i-1])*z(t_current[i])*(Q6(t_current[i-1],x)+Q6(t_current[i],x))\n",
    "    prem=S[no]*0.5*num2\n",
    "    \n",
    "    return prot-prem\n",
    "        \n",
    "\n",
    "def dV6(x,no):\n",
    "    num1=0\n",
    "    for i in range(K[no]):\n",
    "        s1=i*market_ttm[no]/K[no]\n",
    "        s2=(i+1)*market_ttm[no]/K[no]\n",
    "        num1=num1+(z(s1)+z(s2))*(dQ6(s1,x)-dQ6(s2,x))\n",
    "    prot=(1-R_standard)/2*num1\n",
    "    \n",
    "    num2=0\n",
    "    tmax=market_ttm[no]\n",
    "    t_current=[0]+[x for x in ttm if (x<=tmax)]\n",
    "    N=len(t_current)\n",
    "    for i in range(1,N):\n",
    "        num2=num2+(t_current[i]-t_current[i-1])*z(t_current[i])*(dQ6(t_current[i-1],x)+dQ6(t_current[i],x))\n",
    "    prem=S[no]*0.5*num2\n",
    "    \n",
    "    return prot-prem\n",
    "\n",
    "def NR6(no):\n",
    "    eps=1e-6\n",
    "    x=0.01\n",
    "    while 1:\n",
    "        if abs(V6(x,no))<eps:\n",
    "            return x\n",
    "        x=x-V6(x,no)/dV6(x,no)\n",
    "\n",
    "h6=NR6(5)\n",
    "h6"
   ]
  },
  {
   "cell_type": "code",
   "execution_count": 22,
   "metadata": {},
   "outputs": [
    {
     "data": {
      "text/plain": [
       "0.02883369086668724"
      ]
     },
     "execution_count": 22,
     "metadata": {},
     "output_type": "execute_result"
    }
   ],
   "source": [
    "def Q7(t,h):\n",
    "    if t<market_ttm[5]:\n",
    "        return Q6(t,h6)\n",
    "    return Q5(market_ttm[5],h6)*np.exp(-(t-market_ttm[5])*h)\n",
    "\n",
    "def dQ7(t,h):\n",
    "    if t<=market_ttm[5]:\n",
    "        return 0\n",
    "    return -(t-market_ttm[5])*Q7(t,h)\n",
    "\n",
    "def V7(x,no):\n",
    "    num1=0\n",
    "    for i in range(K[no]):\n",
    "        s1=i*market_ttm[no]/K[no]\n",
    "        s2=(i+1)*market_ttm[no]/K[no]\n",
    "        num1=num1+(z(s1)+z(s2))*(Q7(s1,x)-Q7(s2,x))\n",
    "    prot=(1-R_standard)/2*num1\n",
    "    \n",
    "    num2=0\n",
    "    tmax=market_ttm[no]\n",
    "    t_current=[0]+[x for x in ttm if (x<=tmax)]\n",
    "    N=len(t_current)\n",
    "    for i in range(1,N):\n",
    "        num2=num2+(t_current[i]-t_current[i-1])*z(t_current[i])*(Q7(t_current[i-1],x)+Q7(t_current[i],x))\n",
    "    prem=S[no]*0.5*num2\n",
    "    \n",
    "    return prot-prem\n",
    "        \n",
    "\n",
    "def dV7(x,no):\n",
    "    num1=0\n",
    "    for i in range(K[no]):\n",
    "        s1=i*market_ttm[no]/K[no]\n",
    "        s2=(i+1)*market_ttm[no]/K[no]\n",
    "        num1=num1+(z(s1)+z(s2))*(dQ7(s1,x)-dQ7(s2,x))\n",
    "    prot=(1-R_standard)/2*num1\n",
    "    \n",
    "    num2=0\n",
    "    tmax=market_ttm[no]\n",
    "    t_current=[0]+[x for x in ttm if (x<=tmax)]\n",
    "    N=len(t_current)\n",
    "    for i in range(1,N):\n",
    "        num2=num2+(t_current[i]-t_current[i-1])*z(t_current[i])*(dQ7(t_current[i-1],x)+dQ7(t_current[i],x))\n",
    "    prem=S[no]*0.5*num2\n",
    "    \n",
    "    return prot-prem\n",
    "\n",
    "def NR7(no):\n",
    "    eps=1e-6\n",
    "    x=0.01\n",
    "    while 1:\n",
    "        if abs(V7(x,no))<eps:\n",
    "            return x\n",
    "        x=x-V7(x,no)/dV7(x,no)\n",
    "\n",
    "h7=NR7(6)\n",
    "h7"
   ]
  },
  {
   "cell_type": "code",
   "execution_count": 23,
   "metadata": {},
   "outputs": [
    {
     "data": {
      "text/plain": [
       "0.034537912168566255"
      ]
     },
     "execution_count": 23,
     "metadata": {},
     "output_type": "execute_result"
    }
   ],
   "source": [
    "def Q8(t,h):\n",
    "    if t<market_ttm[6]:\n",
    "        return Q7(t,h7)\n",
    "    return Q7(market_ttm[6],h7)*np.exp(-(t-market_ttm[6])*h)\n",
    "\n",
    "def dQ8(t,h):\n",
    "    if t<=market_ttm[6]:\n",
    "        return 0\n",
    "    return -(t-market_ttm[6])*Q8(t,h)\n",
    "\n",
    "def V8(x,no):\n",
    "    num1=0\n",
    "    for i in range(K[no]):\n",
    "        s1=i*market_ttm[no]/K[no]\n",
    "        s2=(i+1)*market_ttm[no]/K[no]\n",
    "        num1=num1+(z(s1)+z(s2))*(Q8(s1,x)-Q8(s2,x))\n",
    "    prot=(1-R_standard)/2*num1\n",
    "    \n",
    "    num2=0\n",
    "    tmax=market_ttm[no]\n",
    "    t_current=[0]+[x for x in ttm if (x<=tmax)]\n",
    "    N=len(t_current)\n",
    "    for i in range(1,N):\n",
    "        num2=num2+(t_current[i]-t_current[i-1])*z(t_current[i])*(Q8(t_current[i-1],x)+Q8(t_current[i],x))\n",
    "    prem=S[no]*0.5*num2\n",
    "    \n",
    "    return prot-prem\n",
    "        \n",
    "\n",
    "def dV8(x,no):\n",
    "    num1=0\n",
    "    for i in range(K[no]):\n",
    "        s1=i*market_ttm[no]/K[no]\n",
    "        s2=(i+1)*market_ttm[no]/K[no]\n",
    "        num1=num1+(z(s1)+z(s2))*(dQ8(s1,x)-dQ8(s2,x))\n",
    "    prot=(1-R_standard)/2*num1\n",
    "    \n",
    "    num2=0\n",
    "    tmax=market_ttm[no]\n",
    "    t_current=[0]+[x for x in ttm if (x<=tmax)]\n",
    "    N=len(t_current)\n",
    "    for i in range(1,N):\n",
    "        num2=num2+(t_current[i]-t_current[i-1])*z(t_current[i])*(dQ8(t_current[i-1],x)+dQ8(t_current[i],x))\n",
    "    prem=S[no]*0.5*num2\n",
    "    \n",
    "    return prot-prem\n",
    "\n",
    "def NR8(no):\n",
    "    eps=1e-6\n",
    "    x=0.01\n",
    "    while 1:\n",
    "        if abs(V8(x,no))<eps:\n",
    "            return x\n",
    "        x=x-V8(x,no)/dV8(x,no)\n",
    "\n",
    "h8=NR8(7)\n",
    "h8"
   ]
  },
  {
   "cell_type": "code",
   "execution_count": 24,
   "metadata": {},
   "outputs": [
    {
     "data": {
      "text/plain": [
       "0.034674123961084075"
      ]
     },
     "execution_count": 24,
     "metadata": {},
     "output_type": "execute_result"
    }
   ],
   "source": [
    "def Q9(t,h):\n",
    "    if t<market_ttm[7]:\n",
    "        return Q8(t,h8)\n",
    "    return Q8(market_ttm[7],h8)*np.exp(-(t-market_ttm[7])*h)\n",
    "\n",
    "def dQ9(t,h):\n",
    "    if t<=market_ttm[7]:\n",
    "        return 0\n",
    "    return -(t-market_ttm[7])*Q9(t,h)\n",
    "\n",
    "def V9(x,no):\n",
    "    num1=0\n",
    "    for i in range(K[no]):\n",
    "        s1=i*market_ttm[no]/K[no]\n",
    "        s2=(i+1)*market_ttm[no]/K[no]\n",
    "        num1=num1+(z(s1)+z(s2))*(Q9(s1,x)-Q9(s2,x))\n",
    "    prot=(1-R_standard)/2*num1\n",
    "    \n",
    "    num2=0\n",
    "    tmax=market_ttm[no]\n",
    "    t_current=[0]+[x for x in ttm if (x<=tmax)]\n",
    "    N=len(t_current)\n",
    "    for i in range(1,N):\n",
    "        num2=num2+(t_current[i]-t_current[i-1])*z(t_current[i])*(Q9(t_current[i-1],x)+Q9(t_current[i],x))\n",
    "    prem=S[no]*0.5*num2\n",
    "    \n",
    "    return prot-prem\n",
    "        \n",
    "\n",
    "def dV9(x,no):\n",
    "    num1=0\n",
    "    for i in range(K[no]):\n",
    "        s1=i*market_ttm[no]/K[no]\n",
    "        s2=(i+1)*market_ttm[no]/K[no]\n",
    "        num1=num1+(z(s1)+z(s2))*(dQ9(s1,x)-dQ9(s2,x))\n",
    "    prot=(1-R_standard)/2*num1\n",
    "    \n",
    "    num2=0\n",
    "    tmax=market_ttm[no]\n",
    "    t_current=[0]+[x for x in ttm if (x<=tmax)]\n",
    "    N=len(t_current)\n",
    "    for i in range(1,N):\n",
    "        num2=num2+(t_current[i]-t_current[i-1])*z(t_current[i])*(dQ9(t_current[i-1],x)+dQ9(t_current[i],x))\n",
    "    prem=S[no]*0.5*num2\n",
    "    \n",
    "    return prot-prem\n",
    "\n",
    "def NR9(no):\n",
    "    eps=1e-6\n",
    "    x=0.01\n",
    "    while 1:\n",
    "        if abs(V9(x,no))<eps:\n",
    "            return x\n",
    "        x=x-V9(x,no)/dV9(x,no)\n",
    "\n",
    "h9=NR9(8)\n",
    "h9"
   ]
  },
  {
   "cell_type": "code",
   "execution_count": 25,
   "metadata": {},
   "outputs": [
    {
     "data": {
      "text/plain": [
       "0.03523129026761347"
      ]
     },
     "execution_count": 25,
     "metadata": {},
     "output_type": "execute_result"
    }
   ],
   "source": [
    "def Q10(t,h):\n",
    "    if t<market_ttm[8]:\n",
    "        return Q9(t,h9)\n",
    "    return Q9(market_ttm[8],h9)*np.exp(-(t-market_ttm[8])*h)\n",
    "\n",
    "def dQ10(t,h):\n",
    "    if t<=market_ttm[8]:\n",
    "        return 0\n",
    "    return -(t-market_ttm[8])*Q10(t,h)\n",
    "\n",
    "def V10(x,no):\n",
    "    num1=0\n",
    "    for i in range(K[no]):\n",
    "        s1=i*market_ttm[no]/K[no]\n",
    "        s2=(i+1)*market_ttm[no]/K[no]\n",
    "        num1=num1+(z(s1)+z(s2))*(Q10(s1,x)-Q10(s2,x))\n",
    "    prot=(1-R_standard)/2*num1\n",
    "    \n",
    "    num2=0\n",
    "    tmax=market_ttm[no]\n",
    "    t_current=[0]+[x for x in ttm if (x<=tmax)]\n",
    "    N=len(t_current)\n",
    "    for i in range(1,N):\n",
    "        num2=num2+(t_current[i]-t_current[i-1])*z(t_current[i])*(Q10(t_current[i-1],x)+Q10(t_current[i],x))\n",
    "    prem=S[no]*0.5*num2\n",
    "    \n",
    "    return prot-prem\n",
    "        \n",
    "\n",
    "def dV10(x,no):\n",
    "    num1=0\n",
    "    for i in range(K[no]):\n",
    "        s1=i*market_ttm[no]/K[no]\n",
    "        s2=(i+1)*market_ttm[no]/K[no]\n",
    "        num1=num1+(z(s1)+z(s2))*(dQ10(s1,x)-dQ10(s2,x))\n",
    "    prot=(1-R_standard)/2*num1\n",
    "    \n",
    "    num2=0\n",
    "    tmax=market_ttm[no]\n",
    "    t_current=[0]+[x for x in ttm if (x<=tmax)]\n",
    "    N=len(t_current)\n",
    "    for i in range(1,N):\n",
    "        num2=num2+(t_current[i]-t_current[i-1])*z(t_current[i])*(dQ10(t_current[i-1],x)+dQ10(t_current[i],x))\n",
    "    prem=S[no]*0.5*num2\n",
    "    \n",
    "    return prot-prem\n",
    "\n",
    "def NR10(no):\n",
    "    eps=1e-6\n",
    "    x=0.01\n",
    "    while 1:\n",
    "        if abs(V10(x,no))<eps:\n",
    "            return x\n",
    "        x=x-V10(x,no)/dV10(x,no)\n",
    "\n",
    "h10=NR10(9)\n",
    "h10"
   ]
  },
  {
   "cell_type": "code",
   "execution_count": 26,
   "metadata": {},
   "outputs": [],
   "source": [
    "def Qnew(t):\n",
    "    if t<market_ttm[8]:\n",
    "        return Q9(t,h9)\n",
    "    return Q9(market_ttm[8],h9)*np.exp(-(t-market_ttm[8])*h10)"
   ]
  },
  {
   "cell_type": "markdown",
   "metadata": {},
   "source": [
    "# task 4"
   ]
  },
  {
   "cell_type": "code",
   "execution_count": 27,
   "metadata": {},
   "outputs": [],
   "source": [
    "R_non_standard=0.6\n",
    "spread=170/10000\n",
    "\n",
    "price_ttm=[]\n",
    "new_start_time=datetime(2014,2,28)\n",
    "for year in range(2012,2043):\n",
    "    price_ttm.append(datetime(year,5,15))\n",
    "\n",
    "adjusted_price_ttm=[adjust_for_weekend(date) for date in price_ttm]\n",
    "price_ttm_diff=[(date - new_start_time).days/360 for date in adjusted_price_ttm]\n",
    "price_K=int(np.ceil(12*price_ttm_diff[-1]))"
   ]
  },
  {
   "cell_type": "code",
   "execution_count": 52,
   "metadata": {},
   "outputs": [
    {
     "data": {
      "text/plain": [
       "0.1666690608972108"
      ]
     },
     "execution_count": 52,
     "metadata": {},
     "output_type": "execute_result"
    }
   ],
   "source": [
    "num1=0\n",
    "for i in range(1,price_K):\n",
    "    s1=(i-1)*price_ttm_diff[-1]/price_K\n",
    "    s2=i*price_ttm_diff[-1]/price_K\n",
    "    num1=num1+(z(s1)+z(s2))*(Qnew(s1)-Qnew(s2))\n",
    "protection=(1-R_non_standard)/2*num1\n",
    "protection"
   ]
  },
  {
   "cell_type": "code",
   "execution_count": 29,
   "metadata": {},
   "outputs": [],
   "source": [
    "def rpv():\n",
    "    T=price_ttm_diff[-1]\n",
    "    for i in price_ttm_diff:\n",
    "        if i>0:\n",
    "            t0=i\n",
    "            break\n",
    "    d1=(0-price_ttm_diff[0])*z(t0)*(1-Qnew(t0))\n",
    "    d2=0.5*t0*z(t0)*(1-Qnew(t0))\n",
    "    d3=(t0-price_ttm_diff[0])*z(t0)*Qnew(t0)\n",
    "    \n",
    "    d4=0\n",
    "    pos_ttm=[x for x in price_ttm_diff if x>0]\n",
    "    for i in range(len(pos_ttm)-1):\n",
    "        d4=d4+(pos_ttm[i+1]-pos_ttm[i])*z(pos_ttm[i+1])*(Qnew(pos_ttm[i])+Qnew(pos_ttm[i+1]))\n",
    "    d4=d4*0.5\n",
    "    return d1+d2+d3+d4"
   ]
  },
  {
   "cell_type": "code",
   "execution_count": 30,
   "metadata": {},
   "outputs": [
    {
     "data": {
      "text/plain": [
       "0.26639045466373"
      ]
     },
     "execution_count": 30,
     "metadata": {},
     "output_type": "execute_result"
    }
   ],
   "source": [
    "premium=rpv()*spread\n",
    "premium"
   ]
  },
  {
   "cell_type": "code",
   "execution_count": 31,
   "metadata": {},
   "outputs": [
    {
     "data": {
      "text/plain": [
       "-0.0997213937665192"
      ]
     },
     "execution_count": 31,
     "metadata": {},
     "output_type": "execute_result"
    }
   ],
   "source": [
    "value=protection-premium\n",
    "value"
   ]
  },
  {
   "cell_type": "markdown",
   "metadata": {},
   "source": [
    "# tables and plots"
   ]
  },
  {
   "cell_type": "markdown",
   "metadata": {},
   "source": [
    "## r"
   ]
  },
  {
   "cell_type": "code",
   "execution_count": 38,
   "metadata": {},
   "outputs": [
    {
     "data": {
      "text/plain": [
       "Text(0, 0.5, 'interest rate')"
      ]
     },
     "execution_count": 38,
     "metadata": {},
     "output_type": "execute_result"
    },
    {
     "data": {
      "image/png": "[encoded data removed]",
      "text/plain": [
       "<Figure size 1600x640 with 1 Axes>"
      ]
     },
     "metadata": {
      "needs_background": "light"
     },
     "output_type": "display_data"
    }
   ],
   "source": [
    "t=list(range(1,31))\n",
    "plot_r=[]\n",
    "for i in range(1,31):\n",
    "    plot_r.append(r(i))\n",
    "\n",
    "plt.figure(figsize=(20,8),dpi=80)\n",
    "\n",
    "plt.plot(t,plot_r,'b')\n",
    "plt.title('Term structure of interest rates r(t)')\n",
    "plt.xlabel(\"time\")\n",
    "plt.ylabel(\"interest rate\")"
   ]
  },
  {
   "cell_type": "markdown",
   "metadata": {},
   "source": [
    "## z"
   ]
  },
  {
   "cell_type": "code",
   "execution_count": 39,
   "metadata": {},
   "outputs": [
    {
     "data": {
      "image/png": "[encoded data removed]",
      "text/plain": [
       "<Figure size 1600x640 with 1 Axes>"
      ]
     },
     "metadata": {
      "needs_background": "light"
     },
     "output_type": "display_data"
    }
   ],
   "source": [
    "plot_z=[]\n",
    "for i in range(1,31):\n",
    "    plot_z.append(z(i))\n",
    "\n",
    "plt.figure(figsize=(20,8),dpi=80)\n",
    "\n",
    "plt.plot(t,plot_z,'b')\n",
    "plt.title('Term structure of discount factor Z(0,t)')\n",
    "plt.xlabel(\"time\")\n",
    "plt.ylabel(\"discount factor\")"
   ]
  },
  {
   "cell_type": "markdown",
   "metadata": {},
   "source": [
    "## h"
   ]
  },
  {
   "cell_type": "code",
   "execution_count": 44,
   "metadata": {},
   "outputs": [
    {
     "name": "stdout",
     "output_type": "stream",
     "text": [
      "[0.018739616818661795, 0.019369333650527797, 0.01979114524288611, 0.021416395135167455, 0.02238560334042459, 0.024139373192806155, 0.02883369086668724, 0.034537912168566255, 0.034674123961084075, 0.03523129026761347]\n",
      "              h(t)\n",
      "t(years)          \n",
      "1         0.018740\n",
      "2         0.019369\n",
      "3         0.019791\n",
      "4         0.021416\n",
      "5         0.022386\n",
      "6         0.024139\n",
      "7         0.028834\n",
      "8         0.034538\n",
      "9         0.034674\n",
      "10        0.035231\n"
     ]
    },
    {
     "data": {
      "image/png": "[encoded data removed]",
      "text/plain": [
       "<Figure size 1600x640 with 1 Axes>"
      ]
     },
     "metadata": {
      "needs_background": "light"
     },
     "output_type": "display_data"
    }
   ],
   "source": [
    "m=list(range(1,11))\n",
    "h=[h1,h2,h3,h4,h5,h6,h7,h8,h9,h10]\n",
    "\n",
    "plt.figure(figsize=(20,8),dpi=80)\n",
    "\n",
    "plt.plot(m,h,'b')\n",
    "plt.title('Term structure of forward default rates h(t)')\n",
    "plt.xlabel(\"m\")\n",
    "plt.ylabel(\"h(i)\")\n",
    "print(h)\n",
    "\n",
    "s = np.array(list(range(1,11)))\n",
    "data = {'t(years)': s, 'h(t)': h}\n",
    "df = pd.DataFrame(data).set_index('t(years)')\n",
    "print(df)\n"
   ]
  },
  {
   "cell_type": "markdown",
   "metadata": {},
   "source": [
    "## Q"
   ]
  },
  {
   "cell_type": "code",
   "execution_count": 48,
   "metadata": {},
   "outputs": [
    {
     "name": "stdout",
     "output_type": "stream",
     "text": [
      "              Q(t)\n",
      "t(years)          \n",
      "0         1.000000\n",
      "1         0.981171\n",
      "2         0.961971\n",
      "3         0.941724\n",
      "4         0.920967\n",
      "5         0.899181\n",
      "6         0.872596\n",
      "7         0.847795\n",
      "8         0.819780\n",
      "9         0.791949\n",
      "10        0.765064\n",
      "11        0.739011\n",
      "12        0.713826\n",
      "13        0.689499\n",
      "14        0.666001\n",
      "15        0.643304\n",
      "16        0.621380\n",
      "17        0.600203\n",
      "18        0.579748\n",
      "19        0.559991\n",
      "20        0.540906\n",
      "21        0.522282\n",
      "22        0.504202\n",
      "23        0.486748\n",
      "24        0.469897\n",
      "25        0.453631\n",
      "26        0.437927\n",
      "27        0.422767\n",
      "28        0.408131\n",
      "29        0.394003\n",
      "30        0.380363\n"
     ]
    },
    {
     "data": {
      "image/png": "[encoded data removed]",
      "text/plain": [
       "<Figure size 1600x640 with 1 Axes>"
      ]
     },
     "metadata": {
      "needs_background": "light"
     },
     "output_type": "display_data"
    }
   ],
   "source": [
    "plot_q=[]\n",
    "t=list(range(0,31))\n",
    "for i in range(0,31):\n",
    "    plot_q.append(Qnew(i))\n",
    "\n",
    "plt.figure(figsize=(20,8),dpi=80)\n",
    "\n",
    "plt.plot(t,plot_q,'b')\n",
    "\n",
    "plt.title('survival probability curve Q(t)')\n",
    "plt.xlabel(\"time\")\n",
    "plt.ylabel(\"survival curve\")\n",
    "\n",
    "s = np.array(list(range(0,31)))\n",
    "data = {'t(years)': s, 'Q(t)': plot_q}\n",
    "df = pd.DataFrame(data).set_index('t(years)')\n",
    "print(df)\n"
   ]
  },
  {
   "cell_type": "markdown",
   "metadata": {},
   "source": [
    "## tables"
   ]
  },
  {
   "cell_type": "code",
   "execution_count": 99,
   "metadata": {},
   "outputs": [],
   "source": [
    "data1=pd.DataFrame()\n",
    "data1['t']=t\n",
    "data1['interest rate']=plot_r\n",
    "data1['discount factor']=plot_z\n",
    "data1['survival probability']=plot_q\n"
   ]
  },
  {
   "cell_type": "code",
   "execution_count": 100,
   "metadata": {},
   "outputs": [],
   "source": [
    "data2=pd.DataFrame()\n",
    "data2['m']=m\n",
    "data2['h']=h"
   ]
  },
  {
   "cell_type": "code",
   "execution_count": 49,
   "metadata": {},
   "outputs": [],
   "source": [
    "ai=-spread*(-price_ttm_diff[0])\n",
    "clean_value=value-ai"
   ]
  },
  {
   "cell_type": "code",
   "execution_count": 50,
   "metadata": {},
   "outputs": [
    {
     "data": {
      "text/plain": [
       "-0.030883333333333336"
      ]
     },
     "execution_count": 50,
     "metadata": {},
     "output_type": "execute_result"
    }
   ],
   "source": [
    "ai"
   ]
  },
  {
   "cell_type": "code",
   "execution_count": 51,
   "metadata": {},
   "outputs": [
    {
     "data": {
      "text/plain": [
       "-0.06883806043318587"
      ]
     },
     "execution_count": 51,
     "metadata": {},
     "output_type": "execute_result"
    }
   ],
   "source": [
    "clean_value"
   ]
  },
  {
   "cell_type": "code",
   "execution_count": null,
   "metadata": {},
   "outputs": [],
   "source": []
  }
 ],
 "metadata": {
  "kernelspec": {
   "display_name": "Python 3",
   "language": "python",
   "name": "python3"
  },
  "language_info": {
   "codemirror_mode": {
    "name": "ipython",
    "version": 3
   },
   "file_extension": ".py",
   "mimetype": "text/x-python",
   "name": "python",
   "nbconvert_exporter": "python",
   "pygments_lexer": "ipython3",
   "version": "3.8.3"
  }
 },
 "nbformat": 4,
 "nbformat_minor": 5
}
